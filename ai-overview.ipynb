{
 "cells": [
  {
   "cell_type": "markdown",
   "metadata": {
    "tags": [
     "s1",
     "content"
    ]
   },
   "source": [
    "# Learning Data Analysis, Data Science and Machine Learning on Refactored via Examples\n",
    "\n",
    "Artificial Intelligence has many applications in bioinformatics, fraud detection, intelligent systems, perception, finance, information retrieval, and other areas. Since it is a rapidly growing area that is driving pervasive technological change, machine learning has developed a variety of its own sub-fields, specialized technical tools and methodologies.\n",
    "\n",
    "Machine learning, according to Arthur Samuel, gives **\"computers the ability to learn without being explicitly programmed\"**. Machine Learning consists of two terms Machine and Learning, which can be also be thought as a \"Machine that learns\"\n",
    "\n",
    "<img src=\"https://s3.amazonaws.com/refactored/images/ML/images/machine_learning_intro.png\", style=\"width: 600px;\">\n",
    "\n",
    "# Data Analyst Track!\n",
    "\n",
    "This track is intended to introduce an exhaustive range of concepts that are applied in the day-to-day work of a Data Analyst. It will cover all concepts and follows a learning-by-doing methodology for skill-building, by providing many exercises and milestone labs for practicing application of the concepts previously learned. The objective of this track is to develop data analysis skills to collect, manipulate and present data for easy consumption by business users.\n",
    "\n",
    "## Data Life Cycle and the role of a Data Analyst\n",
    "\n",
    "Data/Information are key pieces of any communication. By understanding and analyzing data, we gain insights into business that are not explicitly communicated by various stakeholders. For Eg. When a customer purchases a product, he only communicates his intention to purchase the product and any other information requested. However, by mining data, we can find out specific details regarding the transaction like date of purchase, purchase amount, product details, total number of orders of the same product purchased on the same day by other customers, etc., and these details are not explicitly available or communicated.\n",
    "\n",
    "<b>Data Life Cycle:</b> The lifecycle of the data starts from a source, which generates data. Commercial web applications, Enterprise Systems, Sensors, Smartphones, Servers, People and nearly every entity that is capable of communication can be a source of data. Collection, cleansing and loading of data is widely referred to as ETL of data. Once the data is ready, it is given a structure based on the nature of the data and association each data item might have with another. This is done using the Entity-Relationship model, which would be discussed at length in future lessons. The data is then queried - selectively extracted and manipulated for consumption by business users. Analysis of data using statistical techniques and algorithms falls under data sciences and analysis of data using non-statistical techniques is usually the job of a data analyst.\n",
    "\n",
    "<img src=\"https://s3.amazonaws.com/refactored/images/ML/images/data_chain.png\", style=\"width: 80%;\">\n",
    "\n",
    "You can become a Data Analyst by taking the Data Analyst course at:\n",
    "\n",
    "* https://refactored.ai/path/data-analyst/\n",
    "\n",
    "## Pre-requisites - Python\n",
    "\n",
    "Basic level of python is expected for this track. You will need to learn python if you aren't conversant with it at:\n",
    "\n",
    "* https://refactored.ai/path/python/\n",
    "\n",
    "If you are already familiar with python basics then you can proceed with the course.\n",
    "\n",
    "## Data Scientist Track\n",
    "\n",
    "Wiki defines Data Science as \"Data Science employs techniques and theories drawn from many fields with the broad areas of mathematics, statistics, operations research, information science and computer science, including signal processing, probability models, machine learning, statistical learning, data mininig, database, data engineering, pattern recognition and learning, visualization, predictive analysis, uncertainty modeling, data warehousing, data compression, computer programming, artificial intelligence, and high performance computing.\" This definition mostly arises from a variety of fields within the academia and industry which have shaped the field. The area of Data Science, is still evolving with many fields from Physics, Mathematics, Statistics and Engineering adding a plethora of methods, all aimed at solving complex problems.\n",
    "\n",
    "### What is Data Science? \n",
    "\n",
    "Data Science refers to solving complex problems by understanding data through exploratory data analysis. This involves many steps, primary amongst which are  Exploratory Data Analysis (EDA), Modeling and Algorithms followed by results and Data Visualization.\n",
    "\n",
    "You can learn data science at:\n",
    "\n",
    "* https://refactored.ai/path/data-science/\n",
    "\n",
    "\n",
    "## ML Track\n",
    "\n",
    "This course is expected to provide an in depth knowledge of all the concepts required by a Machine Leraning Engineer. The course content imparts the knowledge of a concept and immediately provides an opportunity to apply the concepts learned. The exhaustive content introduces (and allows intensive practice of) all concepts, knowledge of which is essential to succeed as a Machine Learning Engineer. However, continuous practice is recommended for gaining expertise in application of concepts to various situations that may be encountered in a professional environment. You can take the ML track at:\n",
    "\n",
    "* https://refactored.ai/path/machine-learning/\n",
    "\n",
    "## Linear Algebra & Probability\n",
    "\n",
    "AI needs extensive knowledge of Linear Algebra and Probability. Refactored also provides the courses at:\n",
    "\n",
    "* https://refactored.ai/user/rf/notebooks/10/linear-algebra.ipynb\n",
    "* https://refactored.ai/user/rf/notebooks/10/probability-theory.ipynb\n",
    "\n",
    "## Advanced Concepts in AI\n",
    "\n",
    "If you are interested in learning advanced concepts in AI, then various topics on AI are available at refactored. For example, here is a tutorial on kernel trick:\n",
    "\n",
    "https://github.com/colaberry/refactored-blogs/blob/master/Kernel-Trick.ipynb\n"
   ]
  }
 ],
 "metadata": {
  "executed_sections": [],
  "kernelspec": {
   "display_name": "Python 3",
   "language": "python",
   "name": "python3"
  },
  "language_info": {
   "codemirror_mode": {
    "name": "ipython",
    "version": 3
   },
   "file_extension": ".py",
   "mimetype": "text/x-python",
   "name": "python",
   "nbconvert_exporter": "python",
   "pygments_lexer": "ipython3",
   "version": "3.6.0"
  }
 },
 "nbformat": 4,
 "nbformat_minor": 2
}
